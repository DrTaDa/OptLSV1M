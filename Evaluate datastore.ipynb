{
 "cells": [
  {
   "cell_type": "code",
   "execution_count": 1,
   "id": "eeacdbe1-f720-42af-a45b-3ff0c86a59ee",
   "metadata": {},
   "outputs": [],
   "source": [
    "import pprint\n",
    "import psutil\n",
    "import json\n",
    "\n",
    "import mozaik.storage.queries as queries\n",
    "import matplotlib.gridspec as gridspec\n",
    "from mozaik.visualization.plotting import Plotting\n",
    "from mozaik.visualization.helper_functions import *\n",
    "from parameters import ParameterSet\n",
    "from mozaik.storage.queries import *\n",
    "from mozaik.analysis.analysis import *\n",
    "from mozaik.controller import Global\n",
    "from mozaik.visualization.plotting import (Plotting, GSynPlot, RasterPlot, PerNeuronAnalogSignalScatterPlot,\n",
    "                                           VmPlot, ConductanceSignalListPlot, ScatterPlot,\n",
    "                                           AnalogSignalListPlot, OverviewPlot, PerNeuronValueScatterPlot, PlotTuningCurve, PerNeuronValuePlot, CorticalColumnRasterPlot)\n",
    "from mozaik.visualization.simple_plot import *\n",
    "\n",
    "from evaluator import define_fitness_calculator\n",
    "from utils import *\n",
    "\n",
    "process = psutil.Process()"
   ]
  },
  {
   "cell_type": "code",
   "execution_count": 2,
   "id": "e098a213-85ab-4eff-965a-e7a71c91b56b",
   "metadata": {},
   "outputs": [],
   "source": [
    "run_id = \"20250203-085757\"\n",
    "config_optimisation = \"./param/config_optimisation\""
   ]
  },
  {
   "cell_type": "code",
   "execution_count": 3,
   "id": "587a70c7-5f60-45d2-acc7-789176ded8f7",
   "metadata": {},
   "outputs": [],
   "source": [
    "with open(config_optimisation) as f:\n",
    "    opt_config = json.load(f)\n",
    "fitness_calculator = define_fitness_calculator(opt_config)"
   ]
  },
  {
   "cell_type": "code",
   "execution_count": null,
   "id": "ecc88dac-aae0-4cf5-af0c-18e9142bc128",
   "metadata": {},
   "outputs": [
    {
     "name": "stdout",
     "output_type": "stream",
     "text": [
      "Reading folder ./20250203-085757[param.defaults]CombinationParamSearch{25}/SelfSustainedPushPull_ParameterSearch_____pynn_seed:1_base_weight:7.75e-06_base_weight:0.00019637_ba\n",
      "[<mozaik.storage.datastore.PickledDataStore object at 0x7e18f9b9bec0>]\n",
      "Reading folder ./20250203-085757[param.defaults]CombinationParamSearch{25}/SelfSustainedPushPull_ParameterSearch_____pynn_seed:1_base_weight:7.75e-06_base_weight:0.00019637_ba\n",
      "\n",
      "Memory usage before: 4.792095184326172Gb\n",
      "For feature SpontActivityTarget_V1_Exc_L4, for value 0.8317 computed score 1.84\n",
      "For feature SpontActivityTarget_V1_Inh_L4, for value 8.3530 computed score 0.00\n",
      "For feature SpontActivityTarget_V1_Exc_L2/3, for value 2.0668 computed score 0.00\n",
      "For feature SpontActivityTarget_V1_Inh_L2/3, for value 4.5535 computed score 0.00\n"
     ]
    },
    {
     "name": "stderr",
     "output_type": "stream",
     "text": [
      "/home/tanguy.damart/virt_env/mozaik/lib/python3.12/site-packages/numpy/core/_methods.py:206: RuntimeWarning: Degrees of freedom <= 0 for slice\n",
      "  ret = _var(a, axis=axis, dtype=dtype, out=out, ddof=ddof,\n",
      "/home/tanguy.damart/virt_env/mozaik/lib/python3.12/site-packages/numpy/core/_methods.py:163: RuntimeWarning: invalid value encountered in divide\n",
      "  arrmean = um.true_divide(arrmean, div, out=arrmean,\n",
      "/home/tanguy.damart/virt_env/mozaik/lib/python3.12/site-packages/numpy/core/_methods.py:198: RuntimeWarning: invalid value encountered in scalar divide\n",
      "  ret = ret.dtype.type(ret / rcount)\n",
      "/home/tanguy.damart/virt_env/mozaik/lib/python3.12/site-packages/numpy/core/fromnumeric.py:3504: RuntimeWarning: Mean of empty slice.\n",
      "  return _methods._mean(a, axis=axis, dtype=dtype,\n",
      "/home/tanguy.damart/virt_env/mozaik/lib/python3.12/site-packages/numpy/core/_methods.py:129: RuntimeWarning: invalid value encountered in scalar divide\n",
      "  ret = ret.dtype.type(ret / rcount)\n"
     ]
    },
    {
     "name": "stdout",
     "output_type": "stream",
     "text": [
      "For feature IrregularityTarget_V1_Exc_L4, for value 0.9364 computed score 0.64\n",
      "For feature IrregularityTarget_V1_Inh_L4, for value 0.6855 computed score 3.14\n",
      "For feature IrregularityTarget_V1_Exc_L2/3, for value 1.0648 computed score 0.00\n",
      "For feature IrregularityTarget_V1_Inh_L2/3, for value 1.6946 computed score 0.00\n",
      "For feature SynchronyTarget_V1_Exc_L4, for value 0.0249 computed score 2.49\n",
      "For feature SynchronyTarget_V1_Inh_L4, for value 0.0083 computed score 0.83\n",
      "For feature SynchronyTarget_V1_Exc_L2/3, for value 0.0388 computed score 3.88\n",
      "For feature SynchronyTarget_V1_Inh_L2/3, for value 0.0654 computed score 6.54\n",
      "For feature OrientationTuningPreferenceTarget_V1_Exc_L4, for value 5.7751 dimensionless computed score 0.00\n",
      "For feature OrientationTuningPreferenceTarget_V1_Inh_L4, for value 1.6784 dimensionless computed score 6.64 dimensionless\n"
     ]
    }
   ],
   "source": [
    "print(get_data_stores(run_id))\n",
    "for data_store in get_data_stores(run_id):\n",
    "\n",
    "    print()\n",
    "    print(f\"Memory usage before: {process.memory_info().rss / 1024**3}Gb\") \n",
    "    scores = fitness_calculator.calculate_scores(data_store)\n",
    "    print(f\"Memory usage after: {process.memory_info().rss / 1024**3}Gb\") \n",
    "    print(\"Scores: \", scores)"
   ]
  },
  {
   "cell_type": "code",
   "execution_count": null,
   "id": "c986b47a-d99b-4849-8682-d93b005d5a7a",
   "metadata": {},
   "outputs": [],
   "source": [
    "print(sum(scores.values()))"
   ]
  },
  {
   "cell_type": "code",
   "execution_count": null,
   "id": "3a325751-e42d-49f3-a45b-9bcbc7f3ed61",
   "metadata": {},
   "outputs": [],
   "source": [
    "score = [float(s) for s in scores.values()]\n",
    "scores_names = [s.replace(\"Target_\", \" \") for s in scores.keys()]\n",
    "pos = [*range(len(score))]\n",
    "\n",
    "fig, axs = plt.subplots(1, figsize=(3, 0.8 + 0.150 * len(pos)), squeeze=False)\n",
    "\n",
    "axs[0, 0].barh(pos, score, height=0.7, align=\"center\", color=\"gray\")\n",
    "\n",
    "for p, s in zip(pos, score):\n",
    "    if s > 2:\n",
    "        axs[0, 0].text(s + 0.05, p - 0.25, s=\"{:.1f}\".format(s), color=\"red\", fontsize=8)\n",
    "    if s < 2:\n",
    "        axs[0, 0].text(s + 0.05, p - 0.25, s=\"{:.1f}\".format(s), color=\"green\", fontsize=8)\n",
    "\n",
    "axs[0, 0].set_xlabel(\"Score\")\n",
    "\n",
    "axs[0, 0].set_yticks(pos)\n",
    "axs[0, 0].set_yticklabels(scores_names, size=\"small\")\n",
    "\n",
    "axs[0, 0].set_xlim(0, 10)\n",
    "axs[0, 0].set_ylim(-0.5, len(pos) - 0.5)\n",
    "\n",
    "plt.savefig(f\"./figures/scores_{run_id}.png\", dpi=100, bbox_inches=\"tight\", transparent=True)\n",
    "plt.show()"
   ]
  },
  {
   "cell_type": "code",
   "execution_count": null,
   "id": "4f8b0fe1-8359-414f-ae8c-29fc0b7204d6",
   "metadata": {},
   "outputs": [],
   "source": []
  }
 ],
 "metadata": {
  "kernelspec": {
   "display_name": "Python 3 (ipykernel)",
   "language": "python",
   "name": "python3"
  },
  "language_info": {
   "codemirror_mode": {
    "name": "ipython",
    "version": 3
   },
   "file_extension": ".py",
   "mimetype": "text/x-python",
   "name": "python",
   "nbconvert_exporter": "python",
   "pygments_lexer": "ipython3",
   "version": "3.12.3"
  }
 },
 "nbformat": 4,
 "nbformat_minor": 5
}
