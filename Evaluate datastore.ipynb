{
 "cells": [
  {
   "cell_type": "code",
   "execution_count": 1,
   "id": "eeacdbe1-f720-42af-a45b-3ff0c86a59ee",
   "metadata": {},
   "outputs": [],
   "source": [
    "import pprint\n",
    "import psutil\n",
    "import json\n",
    "\n",
    "import mozaik.storage.queries as queries\n",
    "import matplotlib.gridspec as gridspec\n",
    "from mozaik.visualization.plotting import Plotting\n",
    "from mozaik.visualization.helper_functions import *\n",
    "from parameters import ParameterSet\n",
    "from mozaik.storage.queries import *\n",
    "from mozaik.analysis.analysis import *\n",
    "from mozaik.controller import Global\n",
    "from mozaik.visualization.plotting import (Plotting, GSynPlot, RasterPlot, PerNeuronAnalogSignalScatterPlot,\n",
    "                                           VmPlot, ConductanceSignalListPlot, ScatterPlot,\n",
    "                                           AnalogSignalListPlot, OverviewPlot, PerNeuronValueScatterPlot, PlotTuningCurve, PerNeuronValuePlot, CorticalColumnRasterPlot)\n",
    "from mozaik.visualization.simple_plot import *\n",
    "\n",
    "from evaluator import define_fitness_calculator\n",
    "from utils import *\n",
    "\n",
    "process = psutil.Process()"
   ]
  },
  {
   "cell_type": "code",
   "execution_count": 2,
   "id": "e098a213-85ab-4eff-965a-e7a71c91b56b",
   "metadata": {},
   "outputs": [],
   "source": [
    "run_id = \"20250414-084900\"\n",
    "config_optimisation = \"./param_split_V2/config_optimisation\""
   ]
  },
  {
   "cell_type": "code",
   "execution_count": 3,
   "id": "587a70c7-5f60-45d2-acc7-789176ded8f7",
   "metadata": {},
   "outputs": [],
   "source": [
    "with open(config_optimisation) as f:\n",
    "    opt_config = json.load(f)\n",
    "fitness_calculator = define_fitness_calculator(opt_config)"
   ]
  },
  {
   "cell_type": "code",
   "execution_count": 4,
   "id": "ecc88dac-aae0-4cf5-af0c-18e9142bc128",
   "metadata": {},
   "outputs": [
    {
     "name": "stdout",
     "output_type": "stream",
     "text": [
      "Reading folder ./20250414-084900_Optimization/SelfSustainedPushPull_Opt_2642100_____pynn_seed:1_base_weight:0.00015507491268248322_base_weight:0.0001348594277758646_base_weight:0.00038576799719535\n",
      "Reading folder ./20250414-084900_Optimization/SelfSustainedPushPull_Opt_2642096_____pynn_seed:1_base_weight:9.609919206776384e-05_base_weight:0.00015789777375876146_base_weight:0.00033725073900235\n",
      "Reading folder ./20250414-084900_Optimization/SelfSustainedPushPull_Opt_2642093_____pynn_seed:1_base_weight:0.00015997241443555958_base_weight:0.0001080838827434791_base_weight:0.00052999999982_ba\n",
      "Reading folder ./20250414-084900_Optimization/SelfSustainedPushPull_Opt_2642094_____pynn_seed:1_base_weight:0.00023041741971169095_base_weight:0.00013605762683156848_base_weight:0.0004064626012190\n",
      "Reading folder ./20250414-084900_Optimization/SelfSustainedPushPull_Opt_2642090_____pynn_seed:1_base_weight:0.00018475238448211872_base_weight:0.00018409621512399408_base_weight:0.0004401684232681\n",
      "Reading folder ./20250414-084900_Optimization/SelfSustainedPushPull_Opt_2642091_____pynn_seed:1_base_weight:0.00015922758019623972_base_weight:0.00019069378592392796_base_weight:0.0002986539592217\n",
      "Reading folder ./20250414-084900_Optimization/SelfSustainedPushPull_Opt_2642099_____pynn_seed:1_base_weight:0.00015904186660295846_base_weight:0.00014424922817967792_base_weight:0.0004207693825937\n",
      "Reading folder ./20250414-084900_Optimization/SelfSustainedPushPull_Opt_2642101_____pynn_seed:1_base_weight:0.0001419272384559503_base_weight:0.00017006817962132877_base_weight:0.00035123001211821\n",
      "Reading folder ./20250414-084900_Optimization/SelfSustainedPushPull_Opt_2642098_____pynn_seed:1_base_weight:0.00018284885171057118_base_weight:0.00017877308415392725_base_weight:0.0002989068699872\n",
      "Reading folder ./20250414-084900_Optimization/SelfSustainedPushPull_Opt_2642097_____pynn_seed:1_base_weight:0.000160665017955191_base_weight:0.00020756548180833948_base_weight:0.000424931084654196\n",
      "Reading folder ./20250414-084900_Optimization/SelfSustainedPushPull_Opt_2642092_____pynn_seed:1_base_weight:0.00018074699744009677_base_weight:0.00010934436898515898_base_weight:0.0003869324258528\n",
      "Reading folder ./20250414-084900_Optimization/SelfSustainedPushPull_Opt_2642095_____pynn_seed:1_base_weight:0.0001555050740158164_base_weight:0.00013005441996793909_base_weight:0.00039209069541771\n"
     ]
    }
   ],
   "source": [
    "for data_store in get_data_stores(run_id):\n",
    "\n",
    "    print()\n",
    "    print(f\"Memory usage before: {process.memory_info().rss / 1024**3}Gb\") \n",
    "    scores = fitness_calculator.calculate_scores(data_store)\n",
    "    print(f\"Memory usage after: {process.memory_info().rss / 1024**3}Gb\") \n",
    "    print(\"Scores: \", scores)"
   ]
  },
  {
   "cell_type": "code",
   "execution_count": 5,
   "id": "c986b47a-d99b-4849-8682-d93b005d5a7a",
   "metadata": {},
   "outputs": [
    {
     "ename": "NameError",
     "evalue": "name 'scores' is not defined",
     "output_type": "error",
     "traceback": [
      "\u001b[0;31m---------------------------------------------------------------------------\u001b[0m",
      "\u001b[0;31mNameError\u001b[0m                                 Traceback (most recent call last)",
      "Cell \u001b[0;32mIn[5], line 1\u001b[0m\n\u001b[0;32m----> 1\u001b[0m \u001b[38;5;28mprint\u001b[39m(\u001b[38;5;28msum\u001b[39m(\u001b[43mscores\u001b[49m\u001b[38;5;241m.\u001b[39mvalues()))\n",
      "\u001b[0;31mNameError\u001b[0m: name 'scores' is not defined"
     ]
    }
   ],
   "source": [
    "print(sum(scores.values()))"
   ]
  },
  {
   "cell_type": "code",
   "execution_count": null,
   "id": "3a325751-e42d-49f3-a45b-9bcbc7f3ed61",
   "metadata": {},
   "outputs": [],
   "source": [
    "score = [float(s) for s in scores.values()]\n",
    "scores_names = [s.replace(\"Target_\", \" \") for s in scores.keys()]\n",
    "pos = [*range(len(score))]\n",
    "\n",
    "fig, axs = plt.subplots(1, figsize=(3, 0.8 + 0.150 * len(pos)), squeeze=False)\n",
    "\n",
    "axs[0, 0].barh(pos, score, height=0.7, align=\"center\", color=\"gray\")\n",
    "\n",
    "for p, s in zip(pos, score):\n",
    "    if s > 2:\n",
    "        axs[0, 0].text(s + 0.05, p - 0.25, s=\"{:.1f}\".format(s), color=\"red\", fontsize=8)\n",
    "    if s < 2:\n",
    "        axs[0, 0].text(s + 0.05, p - 0.25, s=\"{:.1f}\".format(s), color=\"green\", fontsize=8)\n",
    "\n",
    "axs[0, 0].set_xlabel(\"Score\")\n",
    "\n",
    "axs[0, 0].set_yticks(pos)\n",
    "axs[0, 0].set_yticklabels(scores_names, size=\"small\")\n",
    "\n",
    "axs[0, 0].set_xlim(0, 10)\n",
    "axs[0, 0].set_ylim(-0.5, len(pos) - 0.5)\n",
    "\n",
    "plt.savefig(f\"./figures/scores_{run_id}.png\", dpi=100, bbox_inches=\"tight\", transparent=True)\n",
    "plt.show()"
   ]
  },
  {
   "cell_type": "code",
   "execution_count": null,
   "id": "4f8b0fe1-8359-414f-ae8c-29fc0b7204d6",
   "metadata": {},
   "outputs": [],
   "source": []
  },
  {
   "cell_type": "code",
   "execution_count": null,
   "id": "121f5e93-7646-4d07-9899-90dc3b8adc7e",
   "metadata": {},
   "outputs": [],
   "source": []
  }
 ],
 "metadata": {
  "kernelspec": {
   "display_name": "Python 3 (ipykernel)",
   "language": "python",
   "name": "python3"
  },
  "language_info": {
   "codemirror_mode": {
    "name": "ipython",
    "version": 3
   },
   "file_extension": ".py",
   "mimetype": "text/x-python",
   "name": "python",
   "nbconvert_exporter": "python",
   "pygments_lexer": "ipython3",
   "version": "3.12.3"
  }
 },
 "nbformat": 4,
 "nbformat_minor": 5
}
