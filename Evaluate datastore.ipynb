{
 "cells": [
  {
   "cell_type": "code",
   "execution_count": 1,
   "id": "eeacdbe1-f720-42af-a45b-3ff0c86a59ee",
   "metadata": {},
   "outputs": [],
   "source": [
    "import pprint\n",
    "import psutil\n",
    "import json\n",
    "\n",
    "from evaluator import define_fitness_calculator\n",
    "from utils import *\n",
    "\n",
    "process = psutil.Process()"
   ]
  },
  {
   "cell_type": "code",
   "execution_count": 2,
   "id": "e098a213-85ab-4eff-965a-e7a71c91b56b",
   "metadata": {},
   "outputs": [],
   "source": [
    "optimization_folder = \"20250117-114901_Optimization\"\n",
    "config_optimisation = \"./param/config_optimisation\""
   ]
  },
  {
   "cell_type": "code",
   "execution_count": 3,
   "id": "587a70c7-5f60-45d2-acc7-789176ded8f7",
   "metadata": {},
   "outputs": [],
   "source": [
    "with open(config_optimisation) as f:\n",
    "    opt_config = json.load(f)\n",
    "fitness_calculator = define_fitness_calculator(opt_config)"
   ]
  },
  {
   "cell_type": "code",
   "execution_count": 4,
   "id": "ecc88dac-aae0-4cf5-af0c-18e9142bc128",
   "metadata": {},
   "outputs": [
    {
     "name": "stdout",
     "output_type": "stream",
     "text": [
      "Reading folder ./20250117-114901_Optimization/SelfSustainedPushPull_Opt_143872_____pynn_seed:1_base_weight:5.463527868117797e-05_base_weight:0.000\n",
      "Reading folder ./20250117-114901_Optimization/SelfSustainedPushPull_Opt_143878_____pynn_seed:1_base_weight:8.549537762656163e-05_base_weight:0.000\n",
      "Reading folder ./20250117-114901_Optimization/SelfSustainedPushPull_Opt_143879_____pynn_seed:1_base_weight:3.444312491386737e-05_base_weight:0.000\n",
      "Reading folder ./20250117-114901_Optimization/SelfSustainedPushPull_Opt_143876_____pynn_seed:1_base_weight:2.307343209878789e-05_base_weight:0.000\n",
      "Reading folder ./20250117-114901_Optimization/SelfSustainedPushPull_Opt_143881_____pynn_seed:1_base_weight:7.326673959791912e-05_base_weight:0.000\n",
      "Reading folder ./20250117-114901_Optimization/SelfSustainedPushPull_Opt_143871_____pynn_seed:1_base_weight:6.258347659392891e-05_base_weight:0.000\n",
      "Reading folder ./20250117-114901_Optimization/SelfSustainedPushPull_Opt_143875_____pynn_seed:1_base_weight:3.873935616209646e-05_base_weight:0.000\n",
      "Reading folder ./20250117-114901_Optimization/SelfSustainedPushPull_Opt_143882_____pynn_seed:1_base_weight:0.00010351769831710712_base_weight:0.00\n",
      "Reading folder ./20250117-114901_Optimization/SelfSustainedPushPull_Opt_143880_____pynn_seed:1_base_weight:6.827248845841e-05_base_weight:0.000187\n",
      "Reading folder ./20250117-114901_Optimization/SelfSustainedPushPull_Opt_143877_____pynn_seed:1_base_weight:2.9203465104661827e-05_base_weight:0.00\n",
      "Reading folder ./20250117-114901_Optimization/SelfSustainedPushPull_Opt_143874_____pynn_seed:1_base_weight:5.0625855599858734e-05_base_weight:0.00\n",
      "Reading folder ./20250117-114901_Optimization/SelfSustainedPushPull_Opt_143873_____pynn_seed:1_base_weight:2.000000009e-05_base_weight:0.000167780\n",
      "\n",
      "Memory usage before: 7.053855895996094Gb\n",
      "For feature SpontActivityTarget_V1_Exc_L4, for value 0.8185 computed score 2.91\n",
      "For feature SpontActivityTarget_V1_Inh_L4, for value 9.5955 computed score 4.99\n",
      "For feature SpontActivityTarget_V1_Exc_L2/3, for value 2.7520 computed score 3.76\n",
      "For feature SpontActivityTarget_V1_Inh_L2/3, for value 4.2527 computed score 1.12\n"
     ]
    },
    {
     "name": "stderr",
     "output_type": "stream",
     "text": [
      "/home/tanguy.damart/virt_env/mozaik/lib/python3.12/site-packages/numpy/core/_methods.py:206: RuntimeWarning: Degrees of freedom <= 0 for slice\n",
      "  ret = _var(a, axis=axis, dtype=dtype, out=out, ddof=ddof,\n",
      "/home/tanguy.damart/virt_env/mozaik/lib/python3.12/site-packages/numpy/core/_methods.py:163: RuntimeWarning: invalid value encountered in divide\n",
      "  arrmean = um.true_divide(arrmean, div, out=arrmean,\n",
      "/home/tanguy.damart/virt_env/mozaik/lib/python3.12/site-packages/numpy/core/_methods.py:198: RuntimeWarning: invalid value encountered in scalar divide\n",
      "  ret = ret.dtype.type(ret / rcount)\n",
      "/home/tanguy.damart/virt_env/mozaik/lib/python3.12/site-packages/numpy/core/fromnumeric.py:3504: RuntimeWarning: Mean of empty slice.\n",
      "  return _methods._mean(a, axis=axis, dtype=dtype,\n",
      "/home/tanguy.damart/virt_env/mozaik/lib/python3.12/site-packages/numpy/core/_methods.py:129: RuntimeWarning: invalid value encountered in scalar divide\n",
      "  ret = ret.dtype.type(ret / rcount)\n"
     ]
    },
    {
     "name": "stdout",
     "output_type": "stream",
     "text": [
      "For feature IrregularityTarget_V1_Exc_L4, for value 0.6466 computed score 3.53\n",
      "For feature IrregularityTarget_V1_Inh_L4, for value 0.7346 computed score 2.65\n",
      "For feature IrregularityTarget_V1_Exc_L2/3, for value 0.7576 computed score 2.42\n",
      "For feature IrregularityTarget_V1_Inh_L2/3, for value 1.1557 computed score 0.00\n"
     ]
    },
    {
     "name": "stderr",
     "output_type": "stream",
     "text": [
      "/home/tanguy.damart/virt_env/mozaik/lib/python3.12/site-packages/numpy/lib/function_base.py:2897: RuntimeWarning: invalid value encountered in divide\n",
      "  c /= stddev[:, None]\n",
      "/home/tanguy.damart/virt_env/mozaik/lib/python3.12/site-packages/numpy/lib/function_base.py:2898: RuntimeWarning: invalid value encountered in divide\n",
      "  c /= stddev[None, :]\n"
     ]
    },
    {
     "name": "stdout",
     "output_type": "stream",
     "text": [
      "For feature SynchronyTarget_V1_Exc_L4, for value 0.0025 computed score 0.25\n",
      "For feature SynchronyTarget_V1_Inh_L4, for value 0.0023 computed score 0.23\n",
      "For feature SynchronyTarget_V1_Exc_L2/3, for value 0.0047 computed score 0.47\n",
      "For feature SynchronyTarget_V1_Inh_L2/3, for value 0.0162 computed score 1.62\n"
     ]
    },
    {
     "name": "stderr",
     "output_type": "stream",
     "text": [
      "NeuronAnnotationsToPerNeuronValues analysis took: 0.29546213150024414 seconds\n"
     ]
    },
    {
     "name": "stdout",
     "output_type": "stream",
     "text": [
      "For feature OrientationTuningPreferenceTarget_V1_Exc_L4, for value 3.3183 dimensionless computed score 3.36 dimensionless\n",
      "For feature OrientationTuningPreferenceTarget_V1_Inh_L4, for value 1.8106 dimensionless computed score 6.38 dimensionless\n",
      "For feature OrientationTuningPreferenceTarget_V1_Exc_L2/3, for value 2.4776 dimensionless computed score 5.04 dimensionless\n",
      "For feature OrientationTuningPreferenceTarget_V1_Inh_L2/3, for value 2.2909 dimensionless computed score 5.42 dimensionless\n",
      "For feature OrientationTuningOrthoHighTarget_V1_Exc_L4, for value 0.4811 dimensionless computed score 1.60 dimensionless\n",
      "For feature OrientationTuningOrthoHighTarget_V1_Inh_L4, for value 0.1389 dimensionless computed score 0.46 dimensionless\n",
      "For feature OrientationTuningOrthoHighTarget_V1_Exc_L2/3, for value 0.2972 dimensionless computed score 0.99 dimensionless\n",
      "For feature OrientationTuningOrthoHighTarget_V1_Inh_L2/3, for value 1.0656 dimensionless computed score 3.55 dimensionless\n",
      "For feature OrientationTuningOrthoLowTarget_V1_Exc_L4, for value 0.0017 dimensionless computed score 0.01 dimensionless\n",
      "For feature OrientationTuningOrthoLowTarget_V1_Inh_L4, for value 0.0455 dimensionless computed score 0.15 dimensionless\n",
      "For feature OrientationTuningOrthoLowTarget_V1_Exc_L2/3, for value 0.0392 dimensionless computed score 0.13 dimensionless\n",
      "For feature OrientationTuningOrthoLowTarget_V1_Inh_L2/3, for value 0.0894 dimensionless computed score 0.30 dimensionless\n",
      "For feature SizeTuning_V1_Exc_L2/3, for value 1.1545 computed score 2.43\n",
      "Memory usage after: 8.593894958496094Gb\n",
      "Scores:  {'SpontActivityTarget_V1_Exc_L4': 2.9072533333333332, 'SpontActivityTarget_V1_Inh_L4': 4.98874666666667, 'SpontActivityTarget_V1_Exc_L2/3': 3.759840000000001, 'SpontActivityTarget_V1_Inh_L2/3': 1.1183199999999993, 'IrregularityTarget_V1_Exc_L4': 3.5344034859594298, 'IrregularityTarget_V1_Inh_L4': 2.6536094317668977, 'IrregularityTarget_V1_Exc_L2/3': 2.424390745580587, 'IrregularityTarget_V1_Inh_L2/3': 0.0, 'SynchronyTarget_V1_Exc_L4': 0.2466568552448311, 'SynchronyTarget_V1_Inh_L4': 0.23103611393364754, 'SynchronyTarget_V1_Exc_L2/3': 0.4667340143820602, 'SynchronyTarget_V1_Inh_L2/3': 1.6174563912118123, 'OrientationTuningPreferenceTarget_V1_Exc_L4': array(3.3634106) * dimensionless, 'OrientationTuningPreferenceTarget_V1_Inh_L4': array(6.37878647) * dimensionless, 'OrientationTuningPreferenceTarget_V1_Exc_L2/3': array(5.04471853) * dimensionless, 'OrientationTuningPreferenceTarget_V1_Inh_L2/3': array(5.41816835) * dimensionless, 'OrientationTuningOrthoHighTarget_V1_Exc_L4': array(1.60372732) * dimensionless, 'OrientationTuningOrthoHighTarget_V1_Inh_L4': array(0.46303766) * dimensionless, 'OrientationTuningOrthoHighTarget_V1_Exc_L2/3': array(0.99064474) * dimensionless, 'OrientationTuningOrthoHighTarget_V1_Inh_L2/3': array(3.551907) * dimensionless, 'OrientationTuningOrthoLowTarget_V1_Exc_L4': array(0.00551741) * dimensionless, 'OrientationTuningOrthoLowTarget_V1_Inh_L4': array(0.15158592) * dimensionless, 'OrientationTuningOrthoLowTarget_V1_Exc_L2/3': array(0.1307949) * dimensionless, 'OrientationTuningOrthoLowTarget_V1_Inh_L2/3': array(0.29794684) * dimensionless, 'SizeTuning_V1_Exc_L2/3': 2.4251639961115052}\n",
      "\n",
      "Memory usage before: 8.593894958496094Gb\n"
     ]
    },
    {
     "name": "stderr",
     "output_type": "stream",
     "text": [
      "\n",
      "KeyboardInterrupt\n",
      "\n"
     ]
    }
   ],
   "source": [
    "for data_store in get_data_stores(optimization_folder):\n",
    "    print()\n",
    "    print(f\"Memory usage before: {process.memory_info().rss / 1024**3}Gb\") \n",
    "    scores = fitness_calculator.calculate_scores(data_store)\n",
    "    print(f\"Memory usage after: {process.memory_info().rss / 1024**3}Gb\") \n",
    "    print(\"Scores: \", scores)"
   ]
  },
  {
   "cell_type": "code",
   "execution_count": null,
   "id": "c986b47a-d99b-4849-8682-d93b005d5a7a",
   "metadata": {},
   "outputs": [],
   "source": []
  }
 ],
 "metadata": {
  "kernelspec": {
   "display_name": "Python 3 (ipykernel)",
   "language": "python",
   "name": "python3"
  },
  "language_info": {
   "codemirror_mode": {
    "name": "ipython",
    "version": 3
   },
   "file_extension": ".py",
   "mimetype": "text/x-python",
   "name": "python",
   "nbconvert_exporter": "python",
   "pygments_lexer": "ipython3",
   "version": "3.12.3"
  }
 },
 "nbformat": 4,
 "nbformat_minor": 5
}
