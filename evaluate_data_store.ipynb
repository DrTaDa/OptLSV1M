{
 "cells": [
  {
   "cell_type": "code",
   "execution_count": 1,
   "id": "eeacdbe1-f720-42af-a45b-3ff0c86a59ee",
   "metadata": {},
   "outputs": [],
   "source": [
    "import pprint\n",
    "import psutil\n",
    "import json\n",
    "\n",
    "from evaluator import define_fitness_calculator\n",
    "from utils import *\n",
    "\n",
    "process = psutil.Process()"
   ]
  },
  {
   "cell_type": "code",
   "execution_count": 2,
   "id": "e098a213-85ab-4eff-965a-e7a71c91b56b",
   "metadata": {},
   "outputs": [],
   "source": [
    "optimization_folder = \"20250117-114901_Optimization\"\n",
    "config_optimisation = \"./param/config_optimisation\""
   ]
  },
  {
   "cell_type": "code",
   "execution_count": 3,
   "id": "587a70c7-5f60-45d2-acc7-789176ded8f7",
   "metadata": {},
   "outputs": [],
   "source": [
    "with open(config_optimisation) as f:\n",
    "    opt_config = json.load(f)\n",
    "fitness_calculator = define_fitness_calculator(opt_config)"
   ]
  },
  {
   "cell_type": "code",
   "execution_count": null,
   "id": "ecc88dac-aae0-4cf5-af0c-18e9142bc128",
   "metadata": {},
   "outputs": [
    {
     "name": "stdout",
     "output_type": "stream",
     "text": [
      "Reading folder ./20250117-114901_Optimization/SelfSustainedPushPull_Opt_143872_____pynn_seed:1_base_weight:5.463527868117797e-05_base_weight:0.000\n",
      "Reading folder ./20250117-114901_Optimization/SelfSustainedPushPull_Opt_143878_____pynn_seed:1_base_weight:8.549537762656163e-05_base_weight:0.000\n",
      "Reading folder ./20250117-114901_Optimization/SelfSustainedPushPull_Opt_143879_____pynn_seed:1_base_weight:3.444312491386737e-05_base_weight:0.000\n",
      "Reading folder ./20250117-114901_Optimization/SelfSustainedPushPull_Opt_143876_____pynn_seed:1_base_weight:2.307343209878789e-05_base_weight:0.000\n",
      "Reading folder ./20250117-114901_Optimization/SelfSustainedPushPull_Opt_143881_____pynn_seed:1_base_weight:7.326673959791912e-05_base_weight:0.000\n",
      "Reading folder ./20250117-114901_Optimization/SelfSustainedPushPull_Opt_143871_____pynn_seed:1_base_weight:6.258347659392891e-05_base_weight:0.000\n",
      "Reading folder ./20250117-114901_Optimization/SelfSustainedPushPull_Opt_143875_____pynn_seed:1_base_weight:3.873935616209646e-05_base_weight:0.000\n",
      "Reading folder ./20250117-114901_Optimization/SelfSustainedPushPull_Opt_143882_____pynn_seed:1_base_weight:0.00010351769831710712_base_weight:0.00\n",
      "Reading folder ./20250117-114901_Optimization/SelfSustainedPushPull_Opt_143880_____pynn_seed:1_base_weight:6.827248845841e-05_base_weight:0.000187\n",
      "Reading folder ./20250117-114901_Optimization/SelfSustainedPushPull_Opt_143877_____pynn_seed:1_base_weight:2.9203465104661827e-05_base_weight:0.00\n",
      "Reading folder ./20250117-114901_Optimization/SelfSustainedPushPull_Opt_143874_____pynn_seed:1_base_weight:5.0625855599858734e-05_base_weight:0.00\n",
      "Reading folder ./20250117-114901_Optimization/SelfSustainedPushPull_Opt_143873_____pynn_seed:1_base_weight:2.000000009e-05_base_weight:0.000167780\n",
      "\n",
      "Memory usage before: 7.053855895996094Gb\n"
     ]
    }
   ],
   "source": [
    "for data_store in get_data_stores(optimization_folder):\n",
    "    print()\n",
    "    print(f\"Memory usage before: {process.memory_info().rss / 1024**3}Gb\") \n",
    "    scores = fitness_calculator.calculate_scores(data_store)\n",
    "    print(f\"Memory usage after: {process.memory_info().rss / 1024**3}Gb\") \n",
    "    print(\"Scores: \", scores)"
   ]
  },
  {
   "cell_type": "code",
   "execution_count": null,
   "id": "2bb0e79c-84c9-47e3-8598-eaf07f247193",
   "metadata": {},
   "outputs": [],
   "source": []
  }
 ],
 "metadata": {
  "kernelspec": {
   "display_name": "Python 3 (ipykernel)",
   "language": "python",
   "name": "python3"
  },
  "language_info": {
   "codemirror_mode": {
    "name": "ipython",
    "version": 3
   },
   "file_extension": ".py",
   "mimetype": "text/x-python",
   "name": "python",
   "nbconvert_exporter": "python",
   "pygments_lexer": "ipython3",
   "version": "3.12.3"
  }
 },
 "nbformat": 4,
 "nbformat_minor": 5
}
