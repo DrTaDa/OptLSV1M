{
 "cells": [
  {
   "cell_type": "code",
   "execution_count": 1,
   "id": "eeacdbe1-f720-42af-a45b-3ff0c86a59ee",
   "metadata": {},
   "outputs": [],
   "source": [
    "import pprint\n",
    "import psutil\n",
    "\n",
    "from evaluator import define_fitness_calculator\n",
    "from utils import *\n",
    "\n",
    "process = psutil.Process()"
   ]
  },
  {
   "cell_type": "code",
   "execution_count": null,
   "id": "e098a213-85ab-4eff-965a-e7a71c91b56b",
   "metadata": {},
   "outputs": [],
   "source": [
    "optimization_folder = \"20241128-041632_Optimization\"\n",
    "config_optimisation = \"./param/config_optimisation\""
   ]
  },
  {
   "cell_type": "code",
   "execution_count": 2,
   "id": "587a70c7-5f60-45d2-acc7-789176ded8f7",
   "metadata": {},
   "outputs": [],
   "source": [
    "with open(config_optimisation) as f:\n",
    "    opt_config = json.load(f)\n",
    "fitness_calculator = define_fitness_calculator(opt_config)"
   ]
  },
  {
   "cell_type": "code",
   "execution_count": 4,
   "id": "ecc88dac-aae0-4cf5-af0c-18e9142bc128",
   "metadata": {},
   "outputs": [
    {
     "name": "stdout",
     "output_type": "stream",
     "text": [
      "Reading folder ./20241029-031110_Optimization/SelfSustainedPushPull_Opt_217940_____experiment_scaler_a:108.24142137532759_experiment_scaler_b:0.91\n",
      "Reading folder ./20241029-031110_Optimization/SelfSustainedPushPull_Opt_217933_____experiment_scaler_a:109.99999999_experiment_scaler_b:0.91886801\n",
      "Reading folder ./20241029-031110_Optimization/SelfSustainedPushPull_Opt_217931_____experiment_scaler_a:106.02590577042717_experiment_scaler_b:0.91\n",
      "Reading folder ./20241029-031110_Optimization/SelfSustainedPushPull_Opt_217932_____experiment_scaler_a:109.46757134282272_experiment_scaler_b:0.91\n",
      "Reading folder ./20241029-031110_Optimization/SelfSustainedPushPull_Opt_217939_____experiment_scaler_a:108.21010174773255_experiment_scaler_b:0.91\n"
     ]
    }
   ],
   "source": [
    "for data_store in get_data_stores(optimization_folder):\n",
    "    print()\n",
    "    print(f\"Memory usage before: {process.memory_info().rss / 1024**3}Gb\") \n",
    "    scores = fitness_calculator.calculate_scores(data_store)\n",
    "    print(f\"Memory usage after: {process.memory_info().rss / 1024**3}Gb\") \n",
    "    print(\"Scores: \", scores)"
   ]
  }
 ],
 "metadata": {
  "kernelspec": {
   "display_name": "Python 3 (ipykernel)",
   "language": "python",
   "name": "python3"
  },
  "language_info": {
   "codemirror_mode": {
    "name": "ipython",
    "version": 3
   },
   "file_extension": ".py",
   "mimetype": "text/x-python",
   "name": "python",
   "nbconvert_exporter": "python",
   "pygments_lexer": "ipython3",
   "version": "3.8.10"
  }
 },
 "nbformat": 4,
 "nbformat_minor": 5
}
