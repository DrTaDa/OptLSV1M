{
 "cells": [
  {
   "cell_type": "code",
   "execution_count": 1,
   "id": "eeacdbe1-f720-42af-a45b-3ff0c86a59ee",
   "metadata": {},
   "outputs": [],
   "source": [
    "import pprint\n",
    "import psutil\n",
    "import json\n",
    "\n",
    "from evaluator import define_fitness_calculator\n",
    "from utils import *\n",
    "\n",
    "process = psutil.Process()"
   ]
  },
  {
   "cell_type": "code",
   "execution_count": 2,
   "id": "e098a213-85ab-4eff-965a-e7a71c91b56b",
   "metadata": {},
   "outputs": [],
   "source": [
    "optimization_folder = \"20241206-050446_Optimization\"\n",
    "config_optimisation = \"./param/config_optimisation\""
   ]
  },
  {
   "cell_type": "code",
   "execution_count": 3,
   "id": "587a70c7-5f60-45d2-acc7-789176ded8f7",
   "metadata": {},
   "outputs": [],
   "source": [
    "with open(config_optimisation) as f:\n",
    "    opt_config = json.load(f)\n",
    "fitness_calculator = define_fitness_calculator(opt_config)"
   ]
  },
  {
   "cell_type": "code",
   "execution_count": null,
   "id": "ecc88dac-aae0-4cf5-af0c-18e9142bc128",
   "metadata": {},
   "outputs": [
    {
     "name": "stdout",
     "output_type": "stream",
     "text": [
      "Reading folder ./20241206-050446_Optimization/SelfSustainedPushPull_Opt_192262_____pynn_seed:1_base_weight:6.0566514201127955e-05_base_weight:0.00\n",
      "Reading folder ./20241206-050446_Optimization/SelfSustainedPushPull_Opt_192265_____pynn_seed:1_base_weight:9.999999146890343e-14_base_weight:0.000\n",
      "Reading folder ./20241206-050446_Optimization/SelfSustainedPushPull_Opt_192264_____pynn_seed:1_base_weight:9.999999146890343e-14_base_weight:0.000\n",
      "Reading folder ./20241206-050446_Optimization/SelfSustainedPushPull_Opt_192270_____pynn_seed:1_base_weight:3.777558799240537e-05_base_weight:0.000\n",
      "Reading folder ./20241206-050446_Optimization/SelfSustainedPushPull_Opt_192259_____pynn_seed:1_base_weight:9.999999146890343e-14_base_weight:0.000\n",
      "Reading folder ./20241206-050446_Optimization/SelfSustainedPushPull_Opt_192266_____pynn_seed:1_base_weight:3.2287659600595834e-05_base_weight:0.00\n",
      "Reading folder ./20241206-050446_Optimization/SelfSustainedPushPull_Opt_192263_____pynn_seed:1_base_weight:3.077649210218827e-05_base_weight:0.000\n",
      "Reading folder ./20241206-050446_Optimization/SelfSustainedPushPull_Opt_192261_____pynn_seed:1_base_weight:2.692321301670066e-05_base_weight:0.000\n",
      "Reading folder ./20241206-050446_Optimization/SelfSustainedPushPull_Opt_192258_____pynn_seed:1_base_weight:1.3200741453956604e-05_base_weight:0.00\n",
      "Reading folder ./20241206-050446_Optimization/SelfSustainedPushPull_Opt_192268_____pynn_seed:1_base_weight:2.3220405816973855e-05_base_weight:0.00\n",
      "Reading folder ./20241206-050446_Optimization/SelfSustainedPushPull_Opt_192260_____pynn_seed:1_base_weight:2.494301063197708e-06_base_weight:0.000\n",
      "Reading folder ./20241206-050446_Optimization/SelfSustainedPushPull_Opt_192271_____pynn_seed:1_base_weight:1.9846731183732972e-05_base_weight:0.00\n",
      "Reading folder ./20241206-050446_Optimization/SelfSustainedPushPull_Opt_192267_____pynn_seed:1_base_weight:4.809317423181963e-05_base_weight:0.000\n",
      "Reading folder ./20241206-050446_Optimization/SelfSustainedPushPull_Opt_192269_____pynn_seed:1_base_weight:2.5176113266958615e-05_base_weight:0.00\n",
      "Reading folder ./20241206-050446_Optimization/SelfSustainedPushPull_Opt_192257_____pynn_seed:1_base_weight:9.999999146890343e-14_base_weight:0.000\n",
      "Reading folder ./20241206-050446_Optimization/SelfSustainedPushPull_Opt_192256_____pynn_seed:1_base_weight:3.5516559847298407e-06_base_weight:0.00\n",
      "\n",
      "Memory usage before: 10.24471664428711Gb\n",
      "For feature SpontActivityTarget_V1_Exc_L4, for value 1.8046 computed score 2.02\n",
      "For feature SpontActivityTarget_V1_Inh_L4, for value 7.0820 computed score 1.30\n",
      "For feature SpontActivityTarget_V1_Exc_L2/3, for value 2.8828 computed score 4.41\n",
      "For feature SpontActivityTarget_V1_Inh_L2/3, for value 9.3397 computed score 10.00\n"
     ]
    },
    {
     "name": "stderr",
     "output_type": "stream",
     "text": [
      "/home/tanguy.damart/virt_env/mozaik/lib/python3.8/site-packages/numpy/core/_methods.py:265: RuntimeWarning: Degrees of freedom <= 0 for slice\n",
      "  ret = _var(a, axis=axis, dtype=dtype, out=out, ddof=ddof,\n",
      "/home/tanguy.damart/virt_env/mozaik/lib/python3.8/site-packages/numpy/core/_methods.py:223: RuntimeWarning: invalid value encountered in divide\n",
      "  arrmean = um.true_divide(arrmean, div, out=arrmean, casting='unsafe',\n",
      "/home/tanguy.damart/virt_env/mozaik/lib/python3.8/site-packages/numpy/core/_methods.py:257: RuntimeWarning: invalid value encountered in double_scalars\n",
      "  ret = ret.dtype.type(ret / rcount)\n",
      "/home/tanguy.damart/virt_env/mozaik/lib/python3.8/site-packages/numpy/core/fromnumeric.py:3432: RuntimeWarning: Mean of empty slice.\n",
      "  return _methods._mean(a, axis=axis, dtype=dtype,\n",
      "/home/tanguy.damart/virt_env/mozaik/lib/python3.8/site-packages/numpy/core/_methods.py:190: RuntimeWarning: invalid value encountered in double_scalars\n",
      "  ret = ret.dtype.type(ret / rcount)\n"
     ]
    },
    {
     "name": "stdout",
     "output_type": "stream",
     "text": [
      "For feature IrregularityTarget_V1_Exc_L4, for value 0.7269 computed score 2.73\n",
      "For feature IrregularityTarget_V1_Inh_L4, for value 0.6597 computed score 3.40\n",
      "For feature IrregularityTarget_V1_Exc_L2/3, for value 0.7846 computed score 2.15\n",
      "For feature IrregularityTarget_V1_Inh_L2/3, for value 1.2503 computed score 0.00\n"
     ]
    },
    {
     "name": "stderr",
     "output_type": "stream",
     "text": [
      "/home/tanguy.damart/virt_env/mozaik/lib/python3.8/site-packages/numpy/lib/function_base.py:2853: RuntimeWarning: invalid value encountered in divide\n",
      "  c /= stddev[:, None]\n",
      "/home/tanguy.damart/virt_env/mozaik/lib/python3.8/site-packages/numpy/lib/function_base.py:2854: RuntimeWarning: invalid value encountered in divide\n",
      "  c /= stddev[None, :]\n"
     ]
    },
    {
     "name": "stdout",
     "output_type": "stream",
     "text": [
      "For feature SynchronyTarget_V1_Exc_L4, for value 0.0043 computed score 0.43\n",
      "For feature SynchronyTarget_V1_Inh_L4, for value 0.0016 computed score 0.16\n",
      "For feature SynchronyTarget_V1_Exc_L2/3, for value 0.0052 computed score 0.52\n",
      "For feature SynchronyTarget_V1_Inh_L2/3, for value 0.0180 computed score 1.80\n"
     ]
    },
    {
     "name": "stderr",
     "output_type": "stream",
     "text": [
      "NeuronAnnotationsToPerNeuronValues analysis took: 0.33603930473327637 seconds\n"
     ]
    },
    {
     "name": "stdout",
     "output_type": "stream",
     "text": [
      "For feature OrientationTuningPreferenceTarget_V1_Exc_L4, for value 2.6831 dimensionless computed score 4.63 dimensionless\n",
      "For feature OrientationTuningPreferenceTarget_V1_Inh_L4, for value 1.6777 dimensionless computed score 6.64 dimensionless\n",
      "For feature OrientationTuningPreferenceTarget_V1_Exc_L2/3, for value 2.4623 dimensionless computed score 5.08 dimensionless\n",
      "For feature OrientationTuningPreferenceTarget_V1_Inh_L2/3, for value 1.8764 dimensionless computed score 6.25 dimensionless\n",
      "For feature OrientationTuningOrthoHighTarget_V1_Exc_L4, for value 0.3699 dimensionless computed score 1.23 dimensionless\n",
      "For feature OrientationTuningOrthoHighTarget_V1_Inh_L4, for value 0.1046 dimensionless computed score 0.35 dimensionless\n",
      "For feature OrientationTuningOrthoHighTarget_V1_Exc_L2/3, for value 0.2500 dimensionless computed score 0.83 dimensionless\n",
      "For feature OrientationTuningOrthoHighTarget_V1_Inh_L2/3, for value 0.6605 dimensionless computed score 2.20 dimensionless\n",
      "For feature OrientationTuningOrthoLowTarget_V1_Exc_L4, for value 0.0346 dimensionless computed score 0.12 dimensionless\n",
      "For feature OrientationTuningOrthoLowTarget_V1_Inh_L4, for value 0.0093 dimensionless computed score 0.03 dimensionless\n",
      "For feature OrientationTuningOrthoLowTarget_V1_Exc_L2/3, for value 0.0206 dimensionless computed score 0.07 dimensionless\n",
      "For feature OrientationTuningOrthoLowTarget_V1_Inh_L2/3, for value 0.1738 dimensionless computed score 0.58 dimensionless\n",
      "For feature SizeTuning_V1_Exc_L2/3, for value 0.8532 dimensionless computed score 10.00\n",
      "Memory usage after: 11.52703857421875Gb\n",
      "Scores:  {'SpontActivityTarget_V1_Exc_L4': 2.0228800000000002, 'SpontActivityTarget_V1_Inh_L4': 1.2950400000000006, 'SpontActivityTarget_V1_Exc_L2/3': 4.414213333333336, 'SpontActivityTarget_V1_Inh_L2/3': 10, 'IrregularityTarget_V1_Exc_L4': 2.731315504452818, 'IrregularityTarget_V1_Inh_L4': 3.402745412536755, 'IrregularityTarget_V1_Exc_L2/3': 2.1541227291534826, 'IrregularityTarget_V1_Inh_L2/3': 0.0, 'SynchronyTarget_V1_Exc_L4': 0.4277047084808496, 'SynchronyTarget_V1_Inh_L4': 0.16332464412280306, 'SynchronyTarget_V1_Exc_L2/3': 0.523427305926466, 'SynchronyTarget_V1_Inh_L2/3': 1.796849891222426, 'OrientationTuningPreferenceTarget_V1_Exc_L4': array(4.63383213) * dimensionless, 'OrientationTuningPreferenceTarget_V1_Inh_L4': array(6.64451913) * dimensionless, 'OrientationTuningPreferenceTarget_V1_Exc_L2/3': array(5.07549887) * dimensionless, 'OrientationTuningPreferenceTarget_V1_Inh_L2/3': array(6.24721928) * dimensionless, 'OrientationTuningOrthoHighTarget_V1_Exc_L4': array(1.23314327) * dimensionless, 'OrientationTuningOrthoHighTarget_V1_Inh_L4': array(0.34879293) * dimensionless, 'OrientationTuningOrthoHighTarget_V1_Exc_L2/3': array(0.83333333) * dimensionless, 'OrientationTuningOrthoHighTarget_V1_Inh_L2/3': array(2.20170038) * dimensionless, 'OrientationTuningOrthoLowTarget_V1_Exc_L4': array(0.11539506) * dimensionless, 'OrientationTuningOrthoLowTarget_V1_Inh_L4': array(0.03103343) * dimensionless, 'OrientationTuningOrthoLowTarget_V1_Exc_L2/3': array(0.06874443) * dimensionless, 'OrientationTuningOrthoLowTarget_V1_Inh_L2/3': array(0.57937555) * dimensionless, 'SizeTuning_V1_Exc_L2/3': 10}\n",
      "\n",
      "Memory usage before: 11.52703857421875Gb\n",
      "For feature SpontActivityTarget_V1_Exc_L4, for value 1.6407 computed score 1.20\n",
      "For feature SpontActivityTarget_V1_Inh_L4, for value 8.8677 computed score 3.17\n",
      "For feature SpontActivityTarget_V1_Exc_L2/3, for value 2.3468 computed score 1.73\n",
      "For feature SpontActivityTarget_V1_Inh_L2/3, for value 7.9664 computed score 8.17\n",
      "For feature IrregularityTarget_V1_Exc_L4, for value 0.7666 computed score 2.33\n",
      "For feature IrregularityTarget_V1_Inh_L4, for value 0.6931 computed score 3.07\n",
      "For feature IrregularityTarget_V1_Exc_L2/3, for value 0.7915 computed score 2.08\n",
      "For feature IrregularityTarget_V1_Inh_L2/3, for value 1.3753 computed score 0.00\n",
      "For feature SynchronyTarget_V1_Exc_L4, for value 0.0042 computed score 0.42\n",
      "For feature SynchronyTarget_V1_Inh_L4, for value 0.0014 computed score 0.14\n",
      "For feature SynchronyTarget_V1_Exc_L2/3, for value 0.0038 computed score 0.38\n",
      "For feature SynchronyTarget_V1_Inh_L2/3, for value 0.0135 computed score 1.35\n"
     ]
    },
    {
     "name": "stderr",
     "output_type": "stream",
     "text": [
      "NeuronAnnotationsToPerNeuronValues analysis took: 0.33724308013916016 seconds\n"
     ]
    },
    {
     "name": "stdout",
     "output_type": "stream",
     "text": [
      "For feature OrientationTuningPreferenceTarget_V1_Exc_L4, for value 2.7980 dimensionless computed score 4.40 dimensionless\n",
      "For feature OrientationTuningPreferenceTarget_V1_Inh_L4, for value 1.5893 dimensionless computed score 6.82 dimensionless\n",
      "For feature OrientationTuningPreferenceTarget_V1_Exc_L2/3, for value 2.8012 dimensionless computed score 4.40 dimensionless\n",
      "For feature OrientationTuningPreferenceTarget_V1_Inh_L2/3, for value 2.1191 dimensionless computed score 5.76 dimensionless\n",
      "For feature OrientationTuningOrthoHighTarget_V1_Exc_L4, for value 0.4543 dimensionless computed score 1.51 dimensionless\n",
      "For feature OrientationTuningOrthoHighTarget_V1_Inh_L4, for value 0.1054 dimensionless computed score 0.35 dimensionless\n"
     ]
    }
   ],
   "source": [
    "for data_store in get_data_stores(optimization_folder):\n",
    "    print()\n",
    "    print(f\"Memory usage before: {process.memory_info().rss / 1024**3}Gb\") \n",
    "    scores = fitness_calculator.calculate_scores(data_store)\n",
    "    print(f\"Memory usage after: {process.memory_info().rss / 1024**3}Gb\") \n",
    "    print(\"Scores: \", scores)"
   ]
  },
  {
   "cell_type": "code",
   "execution_count": null,
   "id": "2bb0e79c-84c9-47e3-8598-eaf07f247193",
   "metadata": {},
   "outputs": [],
   "source": []
  }
 ],
 "metadata": {
  "kernelspec": {
   "display_name": "Python 3 (ipykernel)",
   "language": "python",
   "name": "python3"
  },
  "language_info": {
   "codemirror_mode": {
    "name": "ipython",
    "version": 3
   },
   "file_extension": ".py",
   "mimetype": "text/x-python",
   "name": "python",
   "nbconvert_exporter": "python",
   "pygments_lexer": "ipython3",
   "version": "3.8.10"
  }
 },
 "nbformat": 4,
 "nbformat_minor": 5
}
