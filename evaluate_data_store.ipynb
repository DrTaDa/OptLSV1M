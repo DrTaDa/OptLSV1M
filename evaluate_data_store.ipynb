{
 "cells": [
  {
   "cell_type": "code",
   "execution_count": 1,
   "id": "eeacdbe1-f720-42af-a45b-3ff0c86a59ee",
   "metadata": {},
   "outputs": [],
   "source": [
    "import numpy\n",
    "import glob\n",
    "import ast\n",
    "\n",
    "import matplotlib.pyplot as plt\n",
    "from math import isclose\n",
    "\n",
    "import mozaik\n",
    "from parameters import ParameterSet\n",
    "from mozaik.storage.datastore import PickledDataStore\n",
    "from mozaik.storage.queries import *\n",
    "from mozaik.analysis.analysis import *\n",
    "from mozaik.analysis.vision import *\n",
    "from mozaik.meta_workflow.parameter_search import ParameterSearch\n",
    "from json_export import save_json\n",
    "from bluepyopt.deapext.optimisationsCMA import DEAPOptimisationCMA\n",
    "\n",
    "from utils import *"
   ]
  },
  {
   "cell_type": "code",
   "execution_count": 2,
   "id": "587a70c7-5f60-45d2-acc7-789176ded8f7",
   "metadata": {},
   "outputs": [],
   "source": [
    "from evaluator import define_evaluator\n",
    "\n",
    "evaluator = define_evaluator(\n",
    "    run_script=\"run_experiment.py\",\n",
    "    parameters_url=\"param/defaults\",\n",
    "    timeout = 2000\n",
    ")"
   ]
  },
  {
   "cell_type": "code",
   "execution_count": 4,
   "id": "ecc88dac-aae0-4cf5-af0c-18e9142bc128",
   "metadata": {},
   "outputs": [
    {
     "name": "stdout",
     "output_type": "stream",
     "text": [
      "Reading folder ./20241029-031110_Optimization/SelfSustainedPushPull_Opt_217940_____experiment_scaler_a:108.24142137532759_experiment_scaler_b:0.91\n",
      "Reading folder ./20241029-031110_Optimization/SelfSustainedPushPull_Opt_217933_____experiment_scaler_a:109.99999999_experiment_scaler_b:0.91886801\n",
      "Reading folder ./20241029-031110_Optimization/SelfSustainedPushPull_Opt_217931_____experiment_scaler_a:106.02590577042717_experiment_scaler_b:0.91\n",
      "Reading folder ./20241029-031110_Optimization/SelfSustainedPushPull_Opt_217932_____experiment_scaler_a:109.46757134282272_experiment_scaler_b:0.91\n",
      "Reading folder ./20241029-031110_Optimization/SelfSustainedPushPull_Opt_217939_____experiment_scaler_a:108.21010174773255_experiment_scaler_b:0.91\n"
     ]
    }
   ],
   "source": [
    "import psutil\n",
    "process = psutil.Process()\n",
    "\n",
    "for data_store in get_data_stores(\"20241029-031110\"):\n",
    "    print()\n",
    "    print(\"Before: \", process.memory_info().rss / 1024**3) \n",
    "    score = evaluator.evaluate_data_store(data_store)\n",
    "    print(\"After: \", process.memory_info().rss / 1024**3) \n",
    "    print(score)"
   ]
  },
  {
   "cell_type": "code",
   "execution_count": null,
   "id": "285c5ae0-9a82-43d4-9811-f06426fe0873",
   "metadata": {},
   "outputs": [],
   "source": []
  }
 ],
 "metadata": {
  "kernelspec": {
   "display_name": "Python 3 (ipykernel)",
   "language": "python",
   "name": "python3"
  },
  "language_info": {
   "codemirror_mode": {
    "name": "ipython",
    "version": 3
   },
   "file_extension": ".py",
   "mimetype": "text/x-python",
   "name": "python",
   "nbconvert_exporter": "python",
   "pygments_lexer": "ipython3",
   "version": "3.8.10"
  }
 },
 "nbformat": 4,
 "nbformat_minor": 5
}
