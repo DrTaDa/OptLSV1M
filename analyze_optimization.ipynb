{
 "cells": [
  {
   "cell_type": "code",
   "execution_count": null,
   "id": "b4487339-52f2-4f46-9dfc-3d389e620224",
   "metadata": {},
   "outputs": [],
   "source": [
    "import pickle\n",
    "import numpy\n",
    "import math\n",
    "import json\n",
    "\n",
    "import matplotlib.pyplot as plt\n",
    "from matplotlib import colors as plt_colors\n",
    "from matplotlib import cm\n",
    "import matplotlib as mpl\n",
    "\n",
    "from evaluator import define_fitness_calculator\n",
    "\n",
    "mpl.rcParams['mathtext.default'] = 'regular'\n",
    "cmap = mpl.colormaps['viridis']"
   ]
  },
  {
   "cell_type": "code",
   "execution_count": null,
   "id": "21da8139-aa2c-47bd-908e-8fd12697a890",
   "metadata": {},
   "outputs": [],
   "source": [
    "optimization_folder = \"20241128-041632_Optimization\"\n",
    "config_optimisation = \"./param/config_optimisation\"\n",
    "checkpoint_path = f\"./{optimization_folder}/opt_check.pkl\""
   ]
  },
  {
   "cell_type": "code",
   "execution_count": null,
   "id": "66e62c22-e752-4f06-b432-78d563932e07",
   "metadata": {},
   "outputs": [],
   "source": [
    "with open(config_optimisation) as f:\n",
    "    opt_config = json.load(f)\n",
    "fitness_calculator = define_fitness_calculator(opt_config)\n",
    "params = define_parameters(opt_config)\n",
    "param_names = [p.name for p in params]\n",
    "scores_names = [target.name for target in fitness_calculator.objectives]"
   ]
  },
  {
   "cell_type": "code",
   "execution_count": null,
   "id": "5f75f00f-731a-4247-9ed1-86294ceb952f",
   "metadata": {},
   "outputs": [],
   "source": [
    "with open(checkpoint_path, \"rb\") as fp:\n",
    "    run = pickle.load(fp, encoding=\"latin1\")"
   ]
  },
  {
   "cell_type": "markdown",
   "id": "a5edc730-5a08-43d9-b040-22e46c0550cb",
   "metadata": {},
   "source": [
    "# Plot best solution"
   ]
  },
  {
   "cell_type": "code",
   "execution_count": null,
   "id": "041247e1-ce38-4ba2-8b01-445e15d61b3c",
   "metadata": {},
   "outputs": [],
   "source": [
    "fig, axs = plt.subplots(1, figsize=(6, 3), squeeze=False)\n",
    "\n",
    "axs[0, 0].plot(run[\"logbook\"].select(\"gen\"), run[\"logbook\"].select(\"min\"), label=\"Minimum\", c=\"black\")\n",
    "axs[0, 0].plot(run[\"logbook\"].select(\"gen\"), run[\"logbook\"].select(\"avg\"), label=\"Average\", c=\"gray\", alpha=0.4)\n",
    "\n",
    "axs[0, 0].set_xlabel(\"Number of generations\")\n",
    "axs[0, 0].set_ylabel(\"Fitness\")\n",
    "\n",
    "legend_text = \"\\n\".join((f\"min score = {min(run['logbook'].select('min')):.3f}\",))\n",
    "axs[0, 0].legend(title=legend_text, loc=\"upper right\", frameon=False)\n",
    "\n",
    "plt.show()"
   ]
  },
  {
   "cell_type": "code",
   "execution_count": null,
   "id": "f2943af1-6e67-46bc-abde-586007622933",
   "metadata": {},
   "outputs": [],
   "source": [
    "print(\"Sigma: \", run[\"CMA_es\"].sigma)\n",
    "print(\"Best model:\")\n",
    "print(\"{\")\n",
    "for p, v in zip(param_names, run[\"halloffame\"][0]):\n",
    "    print(f'    \"{p}\": [{round(v, 8)}],')\n",
    "print(\"}\")"
   ]
  },
  {
   "cell_type": "code",
   "execution_count": null,
   "id": "d077250b-d62f-4cfa-a0ae-35a7ada16a76",
   "metadata": {},
   "outputs": [],
   "source": [
    "score = [float(f) for f in run[\"halloffame\"][0].fitness.values]\n",
    "pos = [*range(len(score))]\n",
    "\n",
    "fig, axs = plt.subplots(1, figsize=(3, 0.8 + 0.150 * len(pos)), squeeze=False)\n",
    "\n",
    "axs[0, 0].barh(pos, score, height=0.7, align=\"center\", color=\"gray\")\n",
    "\n",
    "for p, s in zip(pos, score):\n",
    "    if s > 2:\n",
    "        axs[0, 0].text(s + 0.05, p - 0.25, s=\"{:.1f}\".format(s), color=\"red\", fontsize=8)\n",
    "    if s < 2:\n",
    "        axs[0, 0].text(s + 0.05, p - 0.25, s=\"{:.1f}\".format(s), color=\"green\", fontsize=8)\n",
    "\n",
    "axs[0, 0].set_xlabel(\"Score\")\n",
    "\n",
    "axs[0, 0].set_yticks(pos)\n",
    "axs[0, 0].set_yticklabels(scores_names, size=\"small\")\n",
    "\n",
    "axs[0, 0].set_xlim(0, 10)\n",
    "axs[0, 0].set_ylim(-0.5, len(pos) - 0.5)\n",
    "\n",
    "plt.show()"
   ]
  },
  {
   "cell_type": "markdown",
   "id": "aa198b24-eab2-4d2d-bce1-afa0e295195c",
   "metadata": {},
   "source": [
    "# Plot correlation between parameters and scores"
   ]
  },
  {
   "cell_type": "code",
   "execution_count": null,
   "id": "f2d8ed0a-6570-4ef4-829a-601ed8868c32",
   "metadata": {},
   "outputs": [],
   "source": [
    "# This is an approximation since the other parameters are not fix\n",
    "\n",
    "from scipy.stats import pearsonr\n",
    "\n",
    "n_params = len(run[\"halloffame\"][0])\n",
    "n_targets = len(run[\"halloffame\"][0].fitness.values)\n",
    "\n",
    "corrs = []\n",
    "for idx_param in range(n_params):\n",
    "    for idx_targets in range(n_targets):\n",
    "\n",
    "        X = []\n",
    "        Y = []\n",
    "\n",
    "        for idx_pop in run['history'].genealogy_history:\n",
    "            ind = run['history'].genealogy_history[idx_pop]\n",
    "            scores = numpy.array([float(v) for v in ind.fitness.values])\n",
    "            X.append(ind[idx_param])\n",
    "            Y.append(scores[idx_targets])\n",
    "\n",
    "        corrs.append(pearsonr(X, Y)[0])\n",
    "\n",
    "corrs = numpy.array(corrs).reshape(n_params, n_targets)"
   ]
  },
  {
   "cell_type": "code",
   "execution_count": null,
   "id": "0e66ad41-a176-4747-98ec-a71190dc645c",
   "metadata": {},
   "outputs": [],
   "source": [
    "fig, ax = plt.subplots(1, figsize=(6, 3))\n",
    "\n",
    "ax.imshow(numpy.abs(corrs), vmin=0, vmax=0.8)\n",
    "\n",
    "ax.set_xticks(range(n_targets))\n",
    "ax.set_xticklabels(scores_names, rotation=90)\n",
    "\n",
    "ax.set_yticks(range(n_params))\n",
    "ax.set_yticklabels(param_names)\n",
    "\n",
    "fig.subplots_adjust(right=0.9)\n",
    "cbar_ax = fig.add_axes([0.85, 0.15, 0.03, 0.7])\n",
    "norm = mpl.colors.Normalize(vmin=0, vmax=0.8)\n",
    "\n",
    "cbar = fig.colorbar(\n",
    "    mpl.cm.ScalarMappable(norm=norm, cmap=cmap),\n",
    "    cax=cbar_ax, orientation='vertical', label='Absolute correlation'\n",
    ")\n",
    "cbar.ax.set_yticks([0, 0.4, 0.8])\n",
    "cbar.ax.set_yticklabels([0, 0.4, 0.8])\n",
    "\n",
    "plt.show()"
   ]
  },
  {
   "cell_type": "markdown",
   "id": "98bffcb5-e7c8-4c45-8c47-bb0c833495f5",
   "metadata": {},
   "source": [
    "# Plot the CMA matrix"
   ]
  },
  {
   "cell_type": "code",
   "execution_count": null,
   "id": "b1fe10ed-c9ca-4533-bb85-ceca9669484d",
   "metadata": {},
   "outputs": [],
   "source": [
    "fig, ax = plt.subplots(1, figsize=(4, 4))\n",
    "\n",
    "ax.imshow(numpy.abs(run[\"CMA_es\"].C), vmin=0, vmax=0.3)\n",
    "\n",
    "ax.set_xticks(range(n_params))\n",
    "ax.set_xticklabels(param_names, rotation=90)\n",
    "\n",
    "ax.set_yticks(range(n_params))\n",
    "ax.set_yticklabels(param_names)\n",
    "\n",
    "plt.show()"
   ]
  },
  {
   "cell_type": "markdown",
   "id": "45cb0be4-a1f1-45ea-87c3-93064790e4e4",
   "metadata": {},
   "source": [
    "# Plot exploration of the parameter space"
   ]
  },
  {
   "cell_type": "code",
   "execution_count": null,
   "id": "139bf369-a1ad-4451-b79e-555b8ef64261",
   "metadata": {},
   "outputs": [],
   "source": [
    "max_n_gen = run[\"generation\"]\n",
    "gen_per_bin = 1\n",
    "pop_size = len(run[\"population\"])\n",
    "histo_bins = (int(max_n_gen / gen_per_bin), 20)\n",
    "normalization_factor = gen_per_bin * pop_size\n",
    "\n",
    "# Get the histograms for all parameters\n",
    "histograms = {}\n",
    "for param_index in range(len(run[\"history\"].genealogy_history[1])):\n",
    "    x = [(ind_idx - 1) // pop_size for ind_idx in run[\"history\"].genealogy_history.keys()]\n",
    "    y = [ind[param_index] for ind in run[\"history\"].genealogy_history.values()]\n",
    "\n",
    "    histo_range = [\n",
    "        [0, max_n_gen],\n",
    "        [\n",
    "            params[param_index].bounds[0],\n",
    "            params[param_index].bounds[1],\n",
    "        ],\n",
    "    ]\n",
    "\n",
    "    h, _, _ = numpy.histogram2d(x, y, bins=histo_bins, range=histo_range)\n",
    "    normalized_h = h / normalization_factor\n",
    "\n",
    "    histograms[param_index] = normalized_h\n",
    "\n",
    "ncols = 2\n",
    "nrows = math.ceil(len(params) / ncols)\n",
    "\n",
    "fig, axs = plt.subplots(nrows=nrows, ncols=ncols, figsize=(8, 1.8 * nrows))\n",
    "axs = axs.flat\n",
    "\n",
    "# Plot the histograms\n",
    "for param_index, param in enumerate(params):\n",
    "    axs[param_index].imshow(\n",
    "        100.0 * numpy.flip(histograms[param_index].T, 0),\n",
    "        aspect=\"auto\",\n",
    "        interpolation=\"none\",\n",
    "    )\n",
    "\n",
    "    axs[param_index].set_title(list(param_names)[param_index].replace(\"sheets.\", \"\"), size=\"small\")\n",
    "\n",
    "    x_ticks_pos = [0, int(max_n_gen / gen_per_bin) - 1]\n",
    "    x_ticks_label = [0, int(max_n_gen / gen_per_bin) * gen_per_bin]\n",
    "    axs[param_index].set_xticks(x_ticks_pos, x_ticks_label)\n",
    "    axs[param_index].set_yticks([0, 19], [param.bounds[1], param.bounds[0]])\n",
    "    axs[param_index].set_xlim(0, int(max_n_gen / gen_per_bin) - 1)\n",
    "\n",
    "for axs_index in range(len(params), len(axs)):\n",
    "    axs[axs_index].set_visible(False)\n",
    "\n",
    "# Add a colorbar common to all subplots\n",
    "norm = plt_colors.Normalize(vmin=0, vmax=100, clip=False)\n",
    "\n",
    "fig.subplots_adjust(right=0.8)\n",
    "cbar_ax = fig.add_axes([1, 0.15, 0.02, 0.7])\n",
    "fig.colorbar(mappable=cm.ScalarMappable(norm=norm, cmap=\"viridis\"), cax=cbar_ax, label=\"% of CMA population\",)\n",
    "\n",
    "fig.supxlabel(\"Generations\", size=\"x-large\")\n",
    "fig.supylabel(\"Parameter value\", size=\"x-large\")\n",
    "\n",
    "suptitle = \"Parameter evolution\"\n",
    "fig.suptitle(suptitle, size=\"x-large\")\n",
    "\n",
    "plt.tight_layout()\n",
    "\n",
    "plt.show()"
   ]
  },
  {
   "cell_type": "code",
   "execution_count": null,
   "id": "119ca7c6-3333-407b-8b26-84578f11fd77",
   "metadata": {},
   "outputs": [],
   "source": []
  }
 ],
 "metadata": {
  "kernelspec": {
   "display_name": "Python 3 (ipykernel)",
   "language": "python",
   "name": "python3"
  },
  "language_info": {
   "codemirror_mode": {
    "name": "ipython",
    "version": 3
   },
   "file_extension": ".py",
   "mimetype": "text/x-python",
   "name": "python",
   "nbconvert_exporter": "python",
   "pygments_lexer": "ipython3",
   "version": "3.8.10"
  }
 },
 "nbformat": 4,
 "nbformat_minor": 5
}
